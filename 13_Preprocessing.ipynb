{
  "nbformat": 4,
  "nbformat_minor": 0,
  "metadata": {
    "colab": {
      "provenance": [],
      "authorship_tag": "ABX9TyPh5yk+cKrmUE5jvSi6Z3e2",
      "include_colab_link": true
    },
    "kernelspec": {
      "name": "python3",
      "display_name": "Python 3"
    },
    "language_info": {
      "name": "python"
    }
  },
  "cells": [
    {
      "cell_type": "markdown",
      "metadata": {
        "id": "view-in-github",
        "colab_type": "text"
      },
      "source": [
        "<a href=\"https://colab.research.google.com/github/acharjeeashish/GoogleColab_Kirill/blob/main/13_Preprocessing.ipynb\" target=\"_parent\"><img src=\"https://colab.research.google.com/assets/colab-badge.svg\" alt=\"Open In Colab\"/></a>"
      ]
    },
    {
      "cell_type": "markdown",
      "source": [
        "# Data Preprocessing tool"
      ],
      "metadata": {
        "id": "77LiloIZ0xid"
      }
    },
    {
      "cell_type": "markdown",
      "source": [
        "\n",
        "## Import Lib\n"
      ],
      "metadata": {
        "id": "4qfPx0TX2DNx"
      }
    },
    {
      "cell_type": "code",
      "source": [
        "import numpy as np\n",
        "import matplotlib.pyplot as plt\n",
        "import pandas as pd"
      ],
      "metadata": {
        "id": "_67BSg75z9oZ"
      },
      "execution_count": null,
      "outputs": []
    },
    {
      "cell_type": "markdown",
      "source": [
        "#### Importing the dataset \n"
      ],
      "metadata": {
        "id": "xXE5xcpL2X37"
      }
    },
    {
      "cell_type": "code",
      "source": [
        "#Autheticate Google Stored CSV- \"https://drive.google.com/uc?export=do... ID here******* \"\n",
        "#ID=Share URL -from b/w---path\n",
        "#Eg-https://drive.google.com/file/d/---\"12goGAANLgNvAEMvzNU7v-TkIAm3wxoFD\"----/view \n",
        "file_path=\"https://drive.google.com/uc?export=download&id=12goGAANLgNvAEMvzNU7v-TkIAm3wxoFD\"\n",
        "dataset=pd.read_csv(file_path)"
      ],
      "metadata": {
        "id": "DXaZiSy06uSX"
      },
      "execution_count": null,
      "outputs": []
    },
    {
      "cell_type": "code",
      "source": [
        "X=dataset.iloc[:,0:-1].values\n",
        "Y=dataset.iloc[:,-1].values\n",
        "print(X)"
      ],
      "metadata": {
        "colab": {
          "base_uri": "https://localhost:8080/"
        },
        "id": "id8Len8iIYeC",
        "outputId": "6888d386-16ac-4342-9c8e-c91838b63f35"
      },
      "execution_count": null,
      "outputs": [
        {
          "output_type": "stream",
          "name": "stdout",
          "text": [
            "[['France' 44.0 72000.0]\n",
            " ['Spain' 27.0 48000.0]\n",
            " ['Germany' 30.0 54000.0]\n",
            " ['Spain' 38.0 61000.0]\n",
            " ['Germany' 40.0 nan]\n",
            " ['France' 35.0 58000.0]\n",
            " ['Spain' nan 52000.0]\n",
            " ['France' 48.0 79000.0]\n",
            " ['Germany' 50.0 83000.0]\n",
            " ['France' 37.0 67000.0]]\n"
          ]
        }
      ]
    },
    {
      "cell_type": "code",
      "source": [
        "print(Y)"
      ],
      "metadata": {
        "colab": {
          "base_uri": "https://localhost:8080/"
        },
        "id": "FLcni3VDKrPX",
        "outputId": "e9761b89-b141-493a-de87-0b0343770e97"
      },
      "execution_count": null,
      "outputs": [
        {
          "output_type": "stream",
          "name": "stdout",
          "text": [
            "['No' 'Yes' 'No' 'No' 'Yes' 'Yes' 'No' 'Yes' 'No' 'Yes']\n"
          ]
        }
      ]
    },
    {
      "cell_type": "markdown",
      "source": [
        "# Taking care of missing data"
      ],
      "metadata": {
        "id": "1Bq6RwayL0qI"
      }
    },
    {
      "cell_type": "code",
      "source": [],
      "metadata": {
        "id": "P5bfHZNaL59l"
      },
      "execution_count": null,
      "outputs": []
    }
  ]
}