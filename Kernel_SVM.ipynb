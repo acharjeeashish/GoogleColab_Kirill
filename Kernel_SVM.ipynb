{
  "nbformat": 4,
  "nbformat_minor": 0,
  "metadata": {
    "colab": {
      "provenance": [],
      "authorship_tag": "ABX9TyNaipGSH60Q6Dp9fTf7jexI",
      "include_colab_link": true
    },
    "kernelspec": {
      "name": "python3",
      "display_name": "Python 3"
    },
    "language_info": {
      "name": "python"
    }
  },
  "cells": [
    {
      "cell_type": "markdown",
      "metadata": {
        "id": "view-in-github",
        "colab_type": "text"
      },
      "source": [
        "<a href=\"https://colab.research.google.com/github/acharjeeashish/GoogleColab_Kirill/blob/main/Kernel_SVM.ipynb\" target=\"_parent\"><img src=\"https://colab.research.google.com/assets/colab-badge.svg\" alt=\"Open In Colab\"/></a>"
      ]
    },
    {
      "cell_type": "markdown",
      "source": [
        "# Import Dataset"
      ],
      "metadata": {
        "id": "kR_WMoi9fAQR"
      }
    },
    {
      "cell_type": "code",
      "execution_count": 2,
      "metadata": {
        "id": "4QKNORzSK-0_"
      },
      "outputs": [],
      "source": [
        "import numpy as np\n",
        "import matplotlib.pyplot as plt\n",
        "import pandas as pd"
      ]
    },
    {
      "cell_type": "markdown",
      "source": [
        "## Importing the dataset \n"
      ],
      "metadata": {
        "id": "zdllPV__fgBw"
      }
    },
    {
      "cell_type": "code",
      "source": [
        "file_path=\"https://drive.google.com/uc?export=download&id=19dnc2iiBeWEULiih1_WWMB8LLfNBvMss\"\n",
        "dataset=pd.read_csv(file_path)\n",
        "X=dataset.iloc[:,0:-1].values\n",
        "y=dataset.iloc[:,-1].values\n",
        "dataset"
      ],
      "metadata": {
        "id": "AIUpUNwCLERj",
        "colab": {
          "base_uri": "https://localhost:8080/",
          "height": 424
        },
        "outputId": "41462fba-adc8-4145-8764-aece1a3d95e9"
      },
      "execution_count": 3,
      "outputs": [
        {
          "output_type": "execute_result",
          "data": {
            "text/plain": [
              "     Age  EstimatedSalary  Purchased\n",
              "0     19            19000          0\n",
              "1     35            20000          0\n",
              "2     26            43000          0\n",
              "3     27            57000          0\n",
              "4     19            76000          0\n",
              "..   ...              ...        ...\n",
              "395   46            41000          1\n",
              "396   51            23000          1\n",
              "397   50            20000          1\n",
              "398   36            33000          0\n",
              "399   49            36000          1\n",
              "\n",
              "[400 rows x 3 columns]"
            ],
            "text/html": [
              "\n",
              "  <div id=\"df-1c0cd06d-16b0-4390-9592-372f3818f4ac\">\n",
              "    <div class=\"colab-df-container\">\n",
              "      <div>\n",
              "<style scoped>\n",
              "    .dataframe tbody tr th:only-of-type {\n",
              "        vertical-align: middle;\n",
              "    }\n",
              "\n",
              "    .dataframe tbody tr th {\n",
              "        vertical-align: top;\n",
              "    }\n",
              "\n",
              "    .dataframe thead th {\n",
              "        text-align: right;\n",
              "    }\n",
              "</style>\n",
              "<table border=\"1\" class=\"dataframe\">\n",
              "  <thead>\n",
              "    <tr style=\"text-align: right;\">\n",
              "      <th></th>\n",
              "      <th>Age</th>\n",
              "      <th>EstimatedSalary</th>\n",
              "      <th>Purchased</th>\n",
              "    </tr>\n",
              "  </thead>\n",
              "  <tbody>\n",
              "    <tr>\n",
              "      <th>0</th>\n",
              "      <td>19</td>\n",
              "      <td>19000</td>\n",
              "      <td>0</td>\n",
              "    </tr>\n",
              "    <tr>\n",
              "      <th>1</th>\n",
              "      <td>35</td>\n",
              "      <td>20000</td>\n",
              "      <td>0</td>\n",
              "    </tr>\n",
              "    <tr>\n",
              "      <th>2</th>\n",
              "      <td>26</td>\n",
              "      <td>43000</td>\n",
              "      <td>0</td>\n",
              "    </tr>\n",
              "    <tr>\n",
              "      <th>3</th>\n",
              "      <td>27</td>\n",
              "      <td>57000</td>\n",
              "      <td>0</td>\n",
              "    </tr>\n",
              "    <tr>\n",
              "      <th>4</th>\n",
              "      <td>19</td>\n",
              "      <td>76000</td>\n",
              "      <td>0</td>\n",
              "    </tr>\n",
              "    <tr>\n",
              "      <th>...</th>\n",
              "      <td>...</td>\n",
              "      <td>...</td>\n",
              "      <td>...</td>\n",
              "    </tr>\n",
              "    <tr>\n",
              "      <th>395</th>\n",
              "      <td>46</td>\n",
              "      <td>41000</td>\n",
              "      <td>1</td>\n",
              "    </tr>\n",
              "    <tr>\n",
              "      <th>396</th>\n",
              "      <td>51</td>\n",
              "      <td>23000</td>\n",
              "      <td>1</td>\n",
              "    </tr>\n",
              "    <tr>\n",
              "      <th>397</th>\n",
              "      <td>50</td>\n",
              "      <td>20000</td>\n",
              "      <td>1</td>\n",
              "    </tr>\n",
              "    <tr>\n",
              "      <th>398</th>\n",
              "      <td>36</td>\n",
              "      <td>33000</td>\n",
              "      <td>0</td>\n",
              "    </tr>\n",
              "    <tr>\n",
              "      <th>399</th>\n",
              "      <td>49</td>\n",
              "      <td>36000</td>\n",
              "      <td>1</td>\n",
              "    </tr>\n",
              "  </tbody>\n",
              "</table>\n",
              "<p>400 rows × 3 columns</p>\n",
              "</div>\n",
              "      <button class=\"colab-df-convert\" onclick=\"convertToInteractive('df-1c0cd06d-16b0-4390-9592-372f3818f4ac')\"\n",
              "              title=\"Convert this dataframe to an interactive table.\"\n",
              "              style=\"display:none;\">\n",
              "        \n",
              "  <svg xmlns=\"http://www.w3.org/2000/svg\" height=\"24px\"viewBox=\"0 0 24 24\"\n",
              "       width=\"24px\">\n",
              "    <path d=\"M0 0h24v24H0V0z\" fill=\"none\"/>\n",
              "    <path d=\"M18.56 5.44l.94 2.06.94-2.06 2.06-.94-2.06-.94-.94-2.06-.94 2.06-2.06.94zm-11 1L8.5 8.5l.94-2.06 2.06-.94-2.06-.94L8.5 2.5l-.94 2.06-2.06.94zm10 10l.94 2.06.94-2.06 2.06-.94-2.06-.94-.94-2.06-.94 2.06-2.06.94z\"/><path d=\"M17.41 7.96l-1.37-1.37c-.4-.4-.92-.59-1.43-.59-.52 0-1.04.2-1.43.59L10.3 9.45l-7.72 7.72c-.78.78-.78 2.05 0 2.83L4 21.41c.39.39.9.59 1.41.59.51 0 1.02-.2 1.41-.59l7.78-7.78 2.81-2.81c.8-.78.8-2.07 0-2.86zM5.41 20L4 18.59l7.72-7.72 1.47 1.35L5.41 20z\"/>\n",
              "  </svg>\n",
              "      </button>\n",
              "      \n",
              "  <style>\n",
              "    .colab-df-container {\n",
              "      display:flex;\n",
              "      flex-wrap:wrap;\n",
              "      gap: 12px;\n",
              "    }\n",
              "\n",
              "    .colab-df-convert {\n",
              "      background-color: #E8F0FE;\n",
              "      border: none;\n",
              "      border-radius: 50%;\n",
              "      cursor: pointer;\n",
              "      display: none;\n",
              "      fill: #1967D2;\n",
              "      height: 32px;\n",
              "      padding: 0 0 0 0;\n",
              "      width: 32px;\n",
              "    }\n",
              "\n",
              "    .colab-df-convert:hover {\n",
              "      background-color: #E2EBFA;\n",
              "      box-shadow: 0px 1px 2px rgba(60, 64, 67, 0.3), 0px 1px 3px 1px rgba(60, 64, 67, 0.15);\n",
              "      fill: #174EA6;\n",
              "    }\n",
              "\n",
              "    [theme=dark] .colab-df-convert {\n",
              "      background-color: #3B4455;\n",
              "      fill: #D2E3FC;\n",
              "    }\n",
              "\n",
              "    [theme=dark] .colab-df-convert:hover {\n",
              "      background-color: #434B5C;\n",
              "      box-shadow: 0px 1px 3px 1px rgba(0, 0, 0, 0.15);\n",
              "      filter: drop-shadow(0px 1px 2px rgba(0, 0, 0, 0.3));\n",
              "      fill: #FFFFFF;\n",
              "    }\n",
              "  </style>\n",
              "\n",
              "      <script>\n",
              "        const buttonEl =\n",
              "          document.querySelector('#df-1c0cd06d-16b0-4390-9592-372f3818f4ac button.colab-df-convert');\n",
              "        buttonEl.style.display =\n",
              "          google.colab.kernel.accessAllowed ? 'block' : 'none';\n",
              "\n",
              "        async function convertToInteractive(key) {\n",
              "          const element = document.querySelector('#df-1c0cd06d-16b0-4390-9592-372f3818f4ac');\n",
              "          const dataTable =\n",
              "            await google.colab.kernel.invokeFunction('convertToInteractive',\n",
              "                                                     [key], {});\n",
              "          if (!dataTable) return;\n",
              "\n",
              "          const docLinkHtml = 'Like what you see? Visit the ' +\n",
              "            '<a target=\"_blank\" href=https://colab.research.google.com/notebooks/data_table.ipynb>data table notebook</a>'\n",
              "            + ' to learn more about interactive tables.';\n",
              "          element.innerHTML = '';\n",
              "          dataTable['output_type'] = 'display_data';\n",
              "          await google.colab.output.renderOutput(dataTable, element);\n",
              "          const docLink = document.createElement('div');\n",
              "          docLink.innerHTML = docLinkHtml;\n",
              "          element.appendChild(docLink);\n",
              "        }\n",
              "      </script>\n",
              "    </div>\n",
              "  </div>\n",
              "  "
            ]
          },
          "metadata": {},
          "execution_count": 3
        }
      ]
    },
    {
      "cell_type": "markdown",
      "source": [
        "#Splitting the dataset to taining set and test set"
      ],
      "metadata": {
        "id": "730rH390f_PF"
      }
    },
    {
      "cell_type": "code",
      "source": [
        "from sklearn.model_selection import train_test_split\n",
        "X_train,X_test,y_train,y_test=train_test_split(X,y,test_size=0.25,random_state=1)\n",
        "print(X_train)"
      ],
      "metadata": {
        "id": "Uq8sWKeqLeuv",
        "colab": {
          "base_uri": "https://localhost:8080/"
        },
        "outputId": "ecb7e724-fd5e-4128-c15a-6d727f3a3950"
      },
      "execution_count": 4,
      "outputs": [
        {
          "output_type": "stream",
          "name": "stdout",
          "text": [
            "[[    20  49000]\n",
            " [    46  88000]\n",
            " [    31  34000]\n",
            " [    47  30000]\n",
            " [    35  50000]\n",
            " [    39  96000]\n",
            " [    33 113000]\n",
            " [    49  86000]\n",
            " [    45  79000]\n",
            " [    44  39000]\n",
            " [    41  59000]\n",
            " [    42  53000]\n",
            " [    35  73000]\n",
            " [    41  72000]\n",
            " [    27  96000]\n",
            " [    30 116000]\n",
            " [    41  52000]\n",
            " [    41  52000]\n",
            " [    20  82000]\n",
            " [    46  41000]\n",
            " [    27  31000]\n",
            " [    35  71000]\n",
            " [    49  28000]\n",
            " [    35  91000]\n",
            " [    37  75000]\n",
            " [    32 117000]\n",
            " [    36  75000]\n",
            " [    20  86000]\n",
            " [    38  50000]\n",
            " [    49  36000]\n",
            " [    40  65000]\n",
            " [    37  77000]\n",
            " [    60  46000]\n",
            " [    48 138000]\n",
            " [    40  71000]\n",
            " [    36  63000]\n",
            " [    26  81000]\n",
            " [    33  31000]\n",
            " [    41  51000]\n",
            " [    46  74000]\n",
            " [    18  82000]\n",
            " [    37  33000]\n",
            " [    35  53000]\n",
            " [    28  59000]\n",
            " [    37  71000]\n",
            " [    18  44000]\n",
            " [    38  61000]\n",
            " [    35  65000]\n",
            " [    31  66000]\n",
            " [    47  25000]\n",
            " [    42 104000]\n",
            " [    19  19000]\n",
            " [    21  72000]\n",
            " [    28  32000]\n",
            " [    52 150000]\n",
            " [    53 104000]\n",
            " [    25  80000]\n",
            " [    26  72000]\n",
            " [    26  15000]\n",
            " [    40 142000]\n",
            " [    35  38000]\n",
            " [    57 122000]\n",
            " [    41  87000]\n",
            " [    24  89000]\n",
            " [    37  52000]\n",
            " [    35 108000]\n",
            " [    32 100000]\n",
            " [    35 147000]\n",
            " [    19  26000]\n",
            " [    46  82000]\n",
            " [    47 105000]\n",
            " [    45  45000]\n",
            " [    38  51000]\n",
            " [    37  93000]\n",
            " [    29  43000]\n",
            " [    41  30000]\n",
            " [    40  60000]\n",
            " [    27  88000]\n",
            " [    27  90000]\n",
            " [    39  71000]\n",
            " [    23  28000]\n",
            " [    51 146000]\n",
            " [    23  63000]\n",
            " [    37  80000]\n",
            " [    40  47000]\n",
            " [    48  29000]\n",
            " [    35  59000]\n",
            " [    26  30000]\n",
            " [    39 106000]\n",
            " [    28  84000]\n",
            " [    59  76000]\n",
            " [    40  57000]\n",
            " [    35  97000]\n",
            " [    26  86000]\n",
            " [    41  63000]\n",
            " [    29  47000]\n",
            " [    26  17000]\n",
            " [    58  23000]\n",
            " [    30  62000]\n",
            " [    25  33000]\n",
            " [    59  29000]\n",
            " [    28  37000]\n",
            " [    39  77000]\n",
            " [    47 107000]\n",
            " [    52 138000]\n",
            " [    29  43000]\n",
            " [    27 137000]\n",
            " [    24  55000]\n",
            " [    40  72000]\n",
            " [    21  16000]\n",
            " [    57  26000]\n",
            " [    30 135000]\n",
            " [    48 119000]\n",
            " [    40  57000]\n",
            " [    35  75000]\n",
            " [    28  44000]\n",
            " [    37  74000]\n",
            " [    35  27000]\n",
            " [    37  79000]\n",
            " [    32 120000]\n",
            " [    29  75000]\n",
            " [    30  17000]\n",
            " [    25  79000]\n",
            " [    40 107000]\n",
            " [    24  19000]\n",
            " [    41  72000]\n",
            " [    38  61000]\n",
            " [    36 144000]\n",
            " [    42  64000]\n",
            " [    48  33000]\n",
            " [    48  30000]\n",
            " [    23  20000]\n",
            " [    55 130000]\n",
            " [    29 148000]\n",
            " [    42  65000]\n",
            " [    27  54000]\n",
            " [    37  55000]\n",
            " [    25  22000]\n",
            " [    59 143000]\n",
            " [    42  54000]\n",
            " [    27  17000]\n",
            " [    47  49000]\n",
            " [    28  59000]\n",
            " [    33  69000]\n",
            " [    31  68000]\n",
            " [    35  23000]\n",
            " [    35  22000]\n",
            " [    57  33000]\n",
            " [    30 107000]\n",
            " [    46  23000]\n",
            " [    41  60000]\n",
            " [    33  41000]\n",
            " [    33  60000]\n",
            " [    47  47000]\n",
            " [    28  55000]\n",
            " [    45  32000]\n",
            " [    35  75000]\n",
            " [    59  42000]\n",
            " [    47  50000]\n",
            " [    47  51000]\n",
            " [    35  79000]\n",
            " [    39  42000]\n",
            " [    40  78000]\n",
            " [    23  48000]\n",
            " [    39  75000]\n",
            " [    35  57000]\n",
            " [    55  39000]\n",
            " [    31  71000]\n",
            " [    28 123000]\n",
            " [    42  80000]\n",
            " [    40  59000]\n",
            " [    48  74000]\n",
            " [    21  88000]\n",
            " [    53  72000]\n",
            " [    27  58000]\n",
            " [    35  47000]\n",
            " [    28  89000]\n",
            " [    26  80000]\n",
            " [    32 117000]\n",
            " [    42  75000]\n",
            " [    33 149000]\n",
            " [    41  80000]\n",
            " [    31  58000]\n",
            " [    39 134000]\n",
            " [    27  20000]\n",
            " [    29  83000]\n",
            " [    19  70000]\n",
            " [    19  85000]\n",
            " [    29  61000]\n",
            " [    39 134000]\n",
            " [    31  76000]\n",
            " [    41  72000]\n",
            " [    26  80000]\n",
            " [    40  61000]\n",
            " [    35  25000]\n",
            " [    48  96000]\n",
            " [    42 149000]\n",
            " [    28  79000]\n",
            " [    51 134000]\n",
            " [    33  28000]\n",
            " [    42  54000]\n",
            " [    45  22000]\n",
            " [    37  57000]\n",
            " [    34 112000]\n",
            " [    35  39000]\n",
            " [    22  27000]\n",
            " [    35  72000]\n",
            " [    39  59000]\n",
            " [    20  74000]\n",
            " [    46  32000]\n",
            " [    26  43000]\n",
            " [    29  83000]\n",
            " [    55 125000]\n",
            " [    37 146000]\n",
            " [    45 131000]\n",
            " [    33  43000]\n",
            " [    41  45000]\n",
            " [    42  79000]\n",
            " [    37 137000]\n",
            " [    24  84000]\n",
            " [    32  18000]\n",
            " [    56 104000]\n",
            " [    49  39000]\n",
            " [    28  85000]\n",
            " [    53 143000]\n",
            " [    30  89000]\n",
            " [    57  60000]\n",
            " [    40  75000]\n",
            " [    41  79000]\n",
            " [    20  82000]\n",
            " [    22  55000]\n",
            " [    35  88000]\n",
            " [    54  70000]\n",
            " [    31  15000]\n",
            " [    50  36000]\n",
            " [    42  65000]\n",
            " [    34  43000]\n",
            " [    42 108000]\n",
            " [    54  26000]\n",
            " [    19  21000]\n",
            " [    36  50000]\n",
            " [    37  70000]\n",
            " [    36 126000]\n",
            " [    47  20000]\n",
            " [    30  79000]\n",
            " [    59  83000]\n",
            " [    29  80000]\n",
            " [    43 112000]\n",
            " [    38  80000]\n",
            " [    58 144000]\n",
            " [    36 125000]\n",
            " [    49  28000]\n",
            " [    18  52000]\n",
            " [    30  15000]\n",
            " [    59  88000]\n",
            " [    27  57000]\n",
            " [    38  71000]\n",
            " [    31  89000]\n",
            " [    47  34000]\n",
            " [    31  74000]\n",
            " [    37  72000]\n",
            " [    40  57000]\n",
            " [    59 130000]\n",
            " [    49  65000]\n",
            " [    48  90000]\n",
            " [    46  22000]\n",
            " [    54 104000]\n",
            " [    35  20000]\n",
            " [    49 141000]\n",
            " [    48  41000]\n",
            " [    35  55000]\n",
            " [    36  60000]\n",
            " [    32 150000]\n",
            " [    18  68000]\n",
            " [    24  55000]\n",
            " [    42  90000]\n",
            " [    38  59000]\n",
            " [    60 108000]\n",
            " [    22  63000]\n",
            " [    24  32000]\n",
            " [    46  59000]\n",
            " [    48 134000]\n",
            " [    41  72000]\n",
            " [    50  44000]\n",
            " [    38  71000]\n",
            " [    24  23000]\n",
            " [    35  61000]\n",
            " [    37  80000]\n",
            " [    24  27000]\n",
            " [    26  84000]\n",
            " [    34  25000]\n",
            " [    36  54000]\n",
            " [    21  68000]\n",
            " [    41  71000]\n",
            " [    60  42000]\n",
            " [    52  90000]\n",
            " [    20  23000]\n",
            " [    51  23000]\n",
            " [    46  79000]\n",
            " [    30  49000]]\n"
          ]
        }
      ]
    },
    {
      "cell_type": "code",
      "source": [
        "print(y_train)"
      ],
      "metadata": {
        "colab": {
          "base_uri": "https://localhost:8080/"
        },
        "id": "b2qTz-TjQl-Q",
        "outputId": "261117ce-c5c4-4de7-a196-288e38feaa79"
      },
      "execution_count": 5,
      "outputs": [
        {
          "output_type": "stream",
          "name": "stdout",
          "text": [
            "[0 1 0 1 0 1 0 1 0 0 0 0 0 0 1 0 0 0 0 1 0 0 1 1 0 0 0 0 0 1 0 0 1 1 1 0 0\n",
            " 0 0 0 0 0 0 0 0 0 0 0 0 1 1 0 0 0 1 1 0 0 0 1 0 1 1 0 0 0 1 1 0 0 1 1 0 1\n",
            " 0 0 0 0 0 0 0 1 0 0 0 1 0 0 1 0 1 0 1 0 0 0 0 1 0 0 1 0 0 1 1 0 1 0 0 0 1\n",
            " 1 1 0 0 0 0 0 1 1 0 0 0 1 0 0 0 1 0 1 1 0 1 1 0 0 0 0 1 0 0 1 0 0 0 0 0 1\n",
            " 1 1 0 0 0 0 0 1 0 0 1 1 0 0 0 0 1 0 1 0 1 0 0 1 0 1 0 0 0 0 1 0 1 0 0 1 0\n",
            " 0 0 0 0 1 0 0 0 0 0 1 1 0 0 0 0 1 0 1 0 0 0 0 0 1 0 0 1 1 1 0 0 0 1 0 0 1\n",
            " 1 0 1 0 1 0 0 0 0 0 1 0 1 0 0 1 1 0 0 1 1 1 0 0 0 1 0 1 1 1 0 0 1 0 0 0 1\n",
            " 0 0 0 1 0 1 0 1 0 1 1 0 0 1 0 0 1 0 1 0 0 0 1 0 0 0 0 0 0 0 0 0 0 0 0 1 1\n",
            " 0 1 1 0]\n"
          ]
        }
      ]
    },
    {
      "cell_type": "markdown",
      "source": [
        "#Feature Scaling"
      ],
      "metadata": {
        "id": "Er_eEL6ebiQe"
      }
    },
    {
      "cell_type": "code",
      "source": [
        "from sklearn.preprocessing import StandardScaler\n",
        "sc=StandardScaler()\n",
        "X_train= sc.fit_transform(X_train)\n",
        "X_test= sc.transform(X_test)"
      ],
      "metadata": {
        "id": "EaPLl7_ZiprY"
      },
      "execution_count": 6,
      "outputs": []
    },
    {
      "cell_type": "markdown",
      "source": [
        "#Training the Kernel SVM on the training set"
      ],
      "metadata": {
        "id": "USXhvfSsdF6F"
      }
    },
    {
      "cell_type": "code",
      "source": [
        "from sklearn.svm import SVC\n",
        "classifier=SVC(kernel='rbf',random_state=0)\n",
        "classifier.fit(X_train,y_train)"
      ],
      "metadata": {
        "colab": {
          "base_uri": "https://localhost:8080/",
          "height": 75
        },
        "id": "EDIJV4vucniP",
        "outputId": "788e9e6a-505c-48b6-d947-f223dbd2faf6"
      },
      "execution_count": 7,
      "outputs": [
        {
          "output_type": "execute_result",
          "data": {
            "text/plain": [
              "SVC(random_state=0)"
            ],
            "text/html": [
              "<style>#sk-container-id-1 {color: black;background-color: white;}#sk-container-id-1 pre{padding: 0;}#sk-container-id-1 div.sk-toggleable {background-color: white;}#sk-container-id-1 label.sk-toggleable__label {cursor: pointer;display: block;width: 100%;margin-bottom: 0;padding: 0.3em;box-sizing: border-box;text-align: center;}#sk-container-id-1 label.sk-toggleable__label-arrow:before {content: \"▸\";float: left;margin-right: 0.25em;color: #696969;}#sk-container-id-1 label.sk-toggleable__label-arrow:hover:before {color: black;}#sk-container-id-1 div.sk-estimator:hover label.sk-toggleable__label-arrow:before {color: black;}#sk-container-id-1 div.sk-toggleable__content {max-height: 0;max-width: 0;overflow: hidden;text-align: left;background-color: #f0f8ff;}#sk-container-id-1 div.sk-toggleable__content pre {margin: 0.2em;color: black;border-radius: 0.25em;background-color: #f0f8ff;}#sk-container-id-1 input.sk-toggleable__control:checked~div.sk-toggleable__content {max-height: 200px;max-width: 100%;overflow: auto;}#sk-container-id-1 input.sk-toggleable__control:checked~label.sk-toggleable__label-arrow:before {content: \"▾\";}#sk-container-id-1 div.sk-estimator input.sk-toggleable__control:checked~label.sk-toggleable__label {background-color: #d4ebff;}#sk-container-id-1 div.sk-label input.sk-toggleable__control:checked~label.sk-toggleable__label {background-color: #d4ebff;}#sk-container-id-1 input.sk-hidden--visually {border: 0;clip: rect(1px 1px 1px 1px);clip: rect(1px, 1px, 1px, 1px);height: 1px;margin: -1px;overflow: hidden;padding: 0;position: absolute;width: 1px;}#sk-container-id-1 div.sk-estimator {font-family: monospace;background-color: #f0f8ff;border: 1px dotted black;border-radius: 0.25em;box-sizing: border-box;margin-bottom: 0.5em;}#sk-container-id-1 div.sk-estimator:hover {background-color: #d4ebff;}#sk-container-id-1 div.sk-parallel-item::after {content: \"\";width: 100%;border-bottom: 1px solid gray;flex-grow: 1;}#sk-container-id-1 div.sk-label:hover label.sk-toggleable__label {background-color: #d4ebff;}#sk-container-id-1 div.sk-serial::before {content: \"\";position: absolute;border-left: 1px solid gray;box-sizing: border-box;top: 0;bottom: 0;left: 50%;z-index: 0;}#sk-container-id-1 div.sk-serial {display: flex;flex-direction: column;align-items: center;background-color: white;padding-right: 0.2em;padding-left: 0.2em;position: relative;}#sk-container-id-1 div.sk-item {position: relative;z-index: 1;}#sk-container-id-1 div.sk-parallel {display: flex;align-items: stretch;justify-content: center;background-color: white;position: relative;}#sk-container-id-1 div.sk-item::before, #sk-container-id-1 div.sk-parallel-item::before {content: \"\";position: absolute;border-left: 1px solid gray;box-sizing: border-box;top: 0;bottom: 0;left: 50%;z-index: -1;}#sk-container-id-1 div.sk-parallel-item {display: flex;flex-direction: column;z-index: 1;position: relative;background-color: white;}#sk-container-id-1 div.sk-parallel-item:first-child::after {align-self: flex-end;width: 50%;}#sk-container-id-1 div.sk-parallel-item:last-child::after {align-self: flex-start;width: 50%;}#sk-container-id-1 div.sk-parallel-item:only-child::after {width: 0;}#sk-container-id-1 div.sk-dashed-wrapped {border: 1px dashed gray;margin: 0 0.4em 0.5em 0.4em;box-sizing: border-box;padding-bottom: 0.4em;background-color: white;}#sk-container-id-1 div.sk-label label {font-family: monospace;font-weight: bold;display: inline-block;line-height: 1.2em;}#sk-container-id-1 div.sk-label-container {text-align: center;}#sk-container-id-1 div.sk-container {/* jupyter's `normalize.less` sets `[hidden] { display: none; }` but bootstrap.min.css set `[hidden] { display: none !important; }` so we also need the `!important` here to be able to override the default hidden behavior on the sphinx rendered scikit-learn.org. See: https://github.com/scikit-learn/scikit-learn/issues/21755 */display: inline-block !important;position: relative;}#sk-container-id-1 div.sk-text-repr-fallback {display: none;}</style><div id=\"sk-container-id-1\" class=\"sk-top-container\"><div class=\"sk-text-repr-fallback\"><pre>SVC(random_state=0)</pre><b>In a Jupyter environment, please rerun this cell to show the HTML representation or trust the notebook. <br />On GitHub, the HTML representation is unable to render, please try loading this page with nbviewer.org.</b></div><div class=\"sk-container\" hidden><div class=\"sk-item\"><div class=\"sk-estimator sk-toggleable\"><input class=\"sk-toggleable__control sk-hidden--visually\" id=\"sk-estimator-id-1\" type=\"checkbox\" checked><label for=\"sk-estimator-id-1\" class=\"sk-toggleable__label sk-toggleable__label-arrow\">SVC</label><div class=\"sk-toggleable__content\"><pre>SVC(random_state=0)</pre></div></div></div></div></div>"
            ]
          },
          "metadata": {},
          "execution_count": 7
        }
      ]
    },
    {
      "cell_type": "markdown",
      "source": [
        "# Predict a new result"
      ],
      "metadata": {
        "id": "JWIZbN9jhRhE"
      }
    },
    {
      "cell_type": "code",
      "source": [
        "print(classifier.predict(sc.transform([[30,87000]])))"
      ],
      "metadata": {
        "colab": {
          "base_uri": "https://localhost:8080/"
        },
        "id": "93q9NHf9d3zO",
        "outputId": "a68225cb-4681-4c1e-9f80-32ba2495a797"
      },
      "execution_count": 8,
      "outputs": [
        {
          "output_type": "stream",
          "name": "stdout",
          "text": [
            "[0]\n"
          ]
        }
      ]
    },
    {
      "cell_type": "markdown",
      "source": [
        "#Predict test set result"
      ],
      "metadata": {
        "id": "5Haa_6xQobVT"
      }
    },
    {
      "cell_type": "code",
      "source": [
        "y_pred=classifier.predict(X_test)\n",
        "print(np.concatenate((y_pred.reshape(len(y_pred),1), y_test.reshape(len(y_test),1)),1))"
      ],
      "metadata": {
        "id": "hmBJN1GFRQaa",
        "colab": {
          "base_uri": "https://localhost:8080/"
        },
        "outputId": "a2b64154-df76-4a77-f358-0b8fa7021e9a"
      },
      "execution_count": 9,
      "outputs": [
        {
          "output_type": "stream",
          "name": "stdout",
          "text": [
            "[[0 0]\n",
            " [0 0]\n",
            " [1 1]\n",
            " [1 1]\n",
            " [1 0]\n",
            " [0 0]\n",
            " [0 0]\n",
            " [1 1]\n",
            " [0 0]\n",
            " [1 0]\n",
            " [0 0]\n",
            " [0 0]\n",
            " [0 0]\n",
            " [1 1]\n",
            " [1 1]\n",
            " [1 1]\n",
            " [1 1]\n",
            " [0 0]\n",
            " [0 0]\n",
            " [1 1]\n",
            " [0 0]\n",
            " [1 1]\n",
            " [1 1]\n",
            " [1 0]\n",
            " [1 1]\n",
            " [0 0]\n",
            " [1 1]\n",
            " [1 0]\n",
            " [1 1]\n",
            " [1 0]\n",
            " [0 0]\n",
            " [0 0]\n",
            " [0 0]\n",
            " [1 1]\n",
            " [0 0]\n",
            " [0 0]\n",
            " [0 0]\n",
            " [0 0]\n",
            " [1 1]\n",
            " [0 0]\n",
            " [1 1]\n",
            " [1 1]\n",
            " [1 0]\n",
            " [0 0]\n",
            " [1 1]\n",
            " [1 1]\n",
            " [1 1]\n",
            " [1 1]\n",
            " [0 0]\n",
            " [1 1]\n",
            " [0 0]\n",
            " [0 0]\n",
            " [0 1]\n",
            " [1 1]\n",
            " [0 1]\n",
            " [0 0]\n",
            " [1 1]\n",
            " [0 0]\n",
            " [1 1]\n",
            " [1 1]\n",
            " [0 0]\n",
            " [0 0]\n",
            " [1 0]\n",
            " [0 0]\n",
            " [1 1]\n",
            " [1 1]\n",
            " [0 0]\n",
            " [0 0]\n",
            " [1 0]\n",
            " [0 0]\n",
            " [1 0]\n",
            " [0 0]\n",
            " [1 1]\n",
            " [0 0]\n",
            " [0 0]\n",
            " [1 1]\n",
            " [0 0]\n",
            " [0 0]\n",
            " [0 0]\n",
            " [0 0]\n",
            " [0 0]\n",
            " [1 1]\n",
            " [1 1]\n",
            " [0 0]\n",
            " [0 0]\n",
            " [0 0]\n",
            " [1 1]\n",
            " [0 0]\n",
            " [1 1]\n",
            " [0 0]\n",
            " [1 1]\n",
            " [1 1]\n",
            " [1 1]\n",
            " [0 0]\n",
            " [0 0]\n",
            " [1 1]\n",
            " [1 1]\n",
            " [0 1]\n",
            " [0 0]\n",
            " [0 0]]\n"
          ]
        }
      ]
    },
    {
      "cell_type": "markdown",
      "source": [
        "# Making confusion Matrix\n"
      ],
      "metadata": {
        "id": "z6Jz8iCAL1F7"
      }
    },
    {
      "cell_type": "code",
      "source": [
        "from sklearn.metrics import confusion_matrix, accuracy_score\n",
        "cm=confusion_matrix(y_test,y_pred)\n",
        "print(cm)\n",
        "accuracy_score(y_test,y_pred)"
      ],
      "metadata": {
        "colab": {
          "base_uri": "https://localhost:8080/"
        },
        "id": "4UmZxpZPL0vl",
        "outputId": "c648cc9d-9e12-40d8-984a-a985a07e915a"
      },
      "execution_count": 10,
      "outputs": [
        {
          "output_type": "stream",
          "name": "stdout",
          "text": [
            "[[49  9]\n",
            " [ 3 39]]\n"
          ]
        },
        {
          "output_type": "execute_result",
          "data": {
            "text/plain": [
              "0.88"
            ]
          },
          "metadata": {},
          "execution_count": 10
        }
      ]
    },
    {
      "cell_type": "markdown",
      "source": [
        "## Visualising the Training set results"
      ],
      "metadata": {
        "id": "WgJCFHNeD15N"
      }
    },
    {
      "cell_type": "code",
      "source": [
        "from matplotlib.colors import ListedColormap\n",
        "X_set, y_set = sc.inverse_transform(X_train), y_train\n",
        "X1, X2 = np.meshgrid(np.arange(start = X_set[:, 0].min() - 10, stop = X_set[:, 0].max() + 10, step = 0.25),\n",
        "                     np.arange(start = X_set[:, 1].min() - 1000, stop = X_set[:, 1].max() + 1000, step = 0.25))\n",
        "plt.contourf(X1, X2, classifier.predict(sc.transform(np.array([X1.ravel(), X2.ravel()]).T)).reshape(X1.shape),\n",
        "             alpha = 0.75, cmap = ListedColormap(('salmon', 'dodgerblue')))\n",
        "plt.xlim(X1.min(), X1.max())\n",
        "plt.ylim(X2.min(), X2.max())\n",
        "for i, j in enumerate(np.unique(y_set)):\n",
        "    plt.scatter(X_set[y_set == j, 0], X_set[y_set == j, 1], c = ListedColormap(('salmon', 'dodgerblue'))(i), label = j)\n",
        "plt.title('Logistic Regression (Training set)')\n",
        "plt.xlabel('Age')\n",
        "plt.ylabel('Estimated Salary')\n",
        "plt.legend()\n",
        "plt.show()"
      ],
      "metadata": {
        "colab": {
          "base_uri": "https://localhost:8080/",
          "height": 527
        },
        "id": "9ZUgaFi5D7EI",
        "outputId": "a3bc69ab-f24c-48fe-da8c-bbed0135b546"
      },
      "execution_count": 11,
      "outputs": [
        {
          "output_type": "stream",
          "name": "stderr",
          "text": [
            "<ipython-input-11-498cf0fd9ad8>:10: UserWarning: *c* argument looks like a single numeric RGB or RGBA sequence, which should be avoided as value-mapping will have precedence in case its length matches with *x* & *y*.  Please use the *color* keyword-argument or provide a 2D array with a single row if you intend to specify the same RGB or RGBA value for all points.\n",
            "  plt.scatter(X_set[y_set == j, 0], X_set[y_set == j, 1], c = ListedColormap(('salmon', 'dodgerblue'))(i), label = j)\n"
          ]
        },
        {
          "output_type": "display_data",
          "data": {
            "text/plain": [
              "<Figure size 640x480 with 1 Axes>"
            ],
            "image/png": "[encoded data removed]"
          },
          "metadata": {}
        }
      ]
    },
    {
      "cell_type": "markdown",
      "source": [
        "## Visualising the Test set results\n"
      ],
      "metadata": {
        "id": "Sw0mFX3xDwPp"
      }
    },
    {
      "cell_type": "code",
      "source": [
        "from matplotlib.colors import ListedColormap\n",
        "X_set, y_set = sc.inverse_transform(X_test), y_test\n",
        "X1, X2 = np.meshgrid(np.arange(start = X_set[:, 0].min() - 10, stop = X_set[:, 0].max() + 10, step = 0.25),\n",
        "                     np.arange(start = X_set[:, 1].min() - 1000, stop = X_set[:, 1].max() + 1000, step = 0.25))\n",
        "plt.contourf(X1, X2, classifier.predict(sc.transform(np.array([X1.ravel(), X2.ravel()]).T)).reshape(X1.shape),\n",
        "             alpha = 0.75, cmap = ListedColormap(('salmon', 'dodgerblue')))\n",
        "plt.xlim(X1.min(), X1.max())\n",
        "plt.ylim(X2.min(), X2.max())\n",
        "for i, j in enumerate(np.unique(y_set)):\n",
        "    plt.scatter(X_set[y_set == j, 0], X_set[y_set == j, 1], c = ListedColormap(('salmon', 'dodgerblue'))(i), label = j)\n",
        "plt.title('Logistic Regression (Test set)')\n",
        "plt.xlabel('Age')\n",
        "plt.ylabel('Estimated Salary')\n",
        "plt.legend()\n",
        "plt.show()"
      ],
      "metadata": {
        "id": "_QRI3eOqLc7R",
        "colab": {
          "base_uri": "https://localhost:8080/",
          "height": 527
        },
        "outputId": "2ecd2744-0128-4694-ebba-b8408d8299bf"
      },
      "execution_count": 12,
      "outputs": [
        {
          "output_type": "stream",
          "name": "stderr",
          "text": [
            "<ipython-input-12-96b67a383660>:10: UserWarning: *c* argument looks like a single numeric RGB or RGBA sequence, which should be avoided as value-mapping will have precedence in case its length matches with *x* & *y*.  Please use the *color* keyword-argument or provide a 2D array with a single row if you intend to specify the same RGB or RGBA value for all points.\n",
            "  plt.scatter(X_set[y_set == j, 0], X_set[y_set == j, 1], c = ListedColormap(('salmon', 'dodgerblue'))(i), label = j)\n"
          ]
        },
        {
          "output_type": "display_data",
          "data": {
            "text/plain": [
              "<Figure size 640x480 with 1 Axes>"
            ],
            "image/png": "[encoded data removed]"
          },
          "metadata": {}
        }
      ]
    }
  ]
}