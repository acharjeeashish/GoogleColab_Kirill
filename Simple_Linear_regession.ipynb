{
  "nbformat": 4,
  "nbformat_minor": 0,
  "metadata": {
    "colab": {
      "provenance": [],
      "authorship_tag": "ABX9TyN4DgLAweOjUxieSdnJnQoy",
      "include_colab_link": true
    },
    "kernelspec": {
      "name": "python3",
      "display_name": "Python 3"
    },
    "language_info": {
      "name": "python"
    }
  },
  "cells": [
    {
      "cell_type": "markdown",
      "metadata": {
        "id": "view-in-github",
        "colab_type": "text"
      },
      "source": [
        "<a href=\"https://colab.research.google.com/github/acharjeeashish/GoogleColab_Kirill/blob/main/Simple_Linear_regession.ipynb\" target=\"_parent\"><img src=\"https://colab.research.google.com/assets/colab-badge.svg\" alt=\"Open In Colab\"/></a>"
      ]
    },
    {
      "cell_type": "markdown",
      "source": [
        "##Import Lib\n"
      ],
      "metadata": {
        "id": "zOVCbnKt8B1S"
      }
    },
    {
      "cell_type": "code",
      "source": [
        "import numpy as np\n",
        "import matplotlib.pyplot as plt\n",
        "import pandas as pd"
      ],
      "metadata": {
        "id": "QLK_kYKU8IbK"
      },
      "execution_count": 1,
      "outputs": []
    },
    {
      "cell_type": "markdown",
      "source": [
        "#Import Dataset"
      ],
      "metadata": {
        "id": "zFNTPMgV8NlP"
      }
    },
    {
      "cell_type": "code",
      "source": [
        "file_path=\"https://drive.google.com/uc?export=download&id=13wUi5FzumoLhgk6DmtEsk3b21qIfIdDL\"\n",
        "dataset=pd.read_csv(file_path)\n",
        "X=dataset.iloc[:,0:-1].values\n",
        "y=dataset.iloc[:,-1].values"
      ],
      "metadata": {
        "id": "CjSIDGCZ8RZO"
      },
      "execution_count": 8,
      "outputs": []
    },
    {
      "cell_type": "markdown",
      "source": [
        "#Splitting the dataset to taining set and test set"
      ],
      "metadata": {
        "id": "qAB5qN-5_VTp"
      }
    },
    {
      "cell_type": "code",
      "source": [
        "from sklearn.model_selection import train_test_split\n",
        "X_train,X_test,y_train,y_test=train_test_split(X,y,test_size=0.2,random_state=1)"
      ],
      "metadata": {
        "id": "MgsxSbBH_hvc"
      },
      "execution_count": 13,
      "outputs": []
    },
    {
      "cell_type": "markdown",
      "source": [
        "#Training simple linear regression model on training set"
      ],
      "metadata": {
        "id": "jLzUJZx7AFv6"
      }
    },
    {
      "cell_type": "code",
      "source": [
        "from sklearn.linear_model import LinearRegression\n",
        "slr=LinearRegression()\n",
        "slr.fit(X_train,y_train)"
      ],
      "metadata": {
        "colab": {
          "base_uri": "https://localhost:8080/"
        },
        "id": "TNlVXEItAPfU",
        "outputId": "82646ffd-3b09-4509-b08a-d6c75a187943"
      },
      "execution_count": 16,
      "outputs": [
        {
          "output_type": "execute_result",
          "data": {
            "text/plain": [
              "LinearRegression()"
            ]
          },
          "metadata": {},
          "execution_count": 16
        }
      ]
    },
    {
      "cell_type": "markdown",
      "source": [
        "##Predict Text Set Result"
      ],
      "metadata": {
        "id": "rXmTEtGYNMDx"
      }
    },
    {
      "cell_type": "code",
      "source": [],
      "metadata": {
        "id": "bz_U4XAFNPpu"
      },
      "execution_count": null,
      "outputs": []
    }
  ]
}